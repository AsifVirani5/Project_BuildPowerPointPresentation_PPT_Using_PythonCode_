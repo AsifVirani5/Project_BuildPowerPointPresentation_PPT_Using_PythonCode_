{
  "nbformat": 4,
  "nbformat_minor": 0,
  "metadata": {
    "colab": {
      "provenance": []
    },
    "kernelspec": {
      "name": "python3",
      "display_name": "Python 3"
    },
    "language_info": {
      "name": "python"
    }
  },
  "cells": [
    {
      "cell_type": "code",
      "execution_count": 46,
      "metadata": {
        "colab": {
          "base_uri": "https://localhost:8080/"
        },
        "id": "AYWE53mLkxGk",
        "outputId": "a2d27852-883b-433e-a60b-d13a00629524"
      },
      "outputs": [
        {
          "output_type": "stream",
          "name": "stdout",
          "text": [
            "Looking in indexes: https://pypi.org/simple, https://us-python.pkg.dev/colab-wheels/public/simple/\n",
            "Requirement already satisfied: python-pptx in /usr/local/lib/python3.9/dist-packages (0.6.21)\n",
            "Requirement already satisfied: lxml>=3.1.0 in /usr/local/lib/python3.9/dist-packages (from python-pptx) (4.9.2)\n",
            "Requirement already satisfied: Pillow>=3.3.2 in /usr/local/lib/python3.9/dist-packages (from python-pptx) (8.4.0)\n",
            "Requirement already satisfied: XlsxWriter>=0.5.7 in /usr/local/lib/python3.9/dist-packages (from python-pptx) (3.0.9)\n"
          ]
        }
      ],
      "source": [
        "!pip install python-pptx"
      ]
    },
    {
      "cell_type": "code",
      "source": [
        "from pptx import Presentation\n",
        "from pptx.util import Inches\n"
      ],
      "metadata": {
        "id": "HGOly2u5lD_8"
      },
      "execution_count": 47,
      "outputs": []
    },
    {
      "cell_type": "code",
      "source": [
        "# create a new PowerPoint presentation\n",
        "prs = Presentation()\n",
        "prs.slide_width = Inches(10)\n",
        "prs.slide_height = Inches(7.5)"
      ],
      "metadata": {
        "id": "XSNReAxIlS0u"
      },
      "execution_count": 48,
      "outputs": []
    },
    {
      "cell_type": "code",
      "source": [
        "# add a new slide\n",
        "slide = prs.slides.add_slide(prs.slide_layouts[1])"
      ],
      "metadata": {
        "id": "Odg80F3WlIT2"
      },
      "execution_count": 49,
      "outputs": []
    },
    {
      "cell_type": "code",
      "source": [
        "# add a title and subtitle to the slide\n",
        "# title = slide.shapes.title\n",
        "# title.text = \"Chatbot Support Team Architecture\"\n",
        "# title.font.size = Inches(0.5)\n",
        "\n",
        "title_shape = slide.shapes.title\n",
        "title_shape.text = \"Chatbot Support Team Architecture\"\n",
        "title_shape.text_frame.paragraphs[0].font.size = Inches(0.5)"
      ],
      "metadata": {
        "id": "DnvyZwgflLL-"
      },
      "execution_count": 50,
      "outputs": []
    },
    {
      "cell_type": "code",
      "source": [
        "subtitle = slide.placeholders[1]\n",
        "subtitle.text = \"Enter the text here\"\n",
        "subtitle.left = Inches(0.5)\n",
        "subtitle.top = Inches(1.5)\n",
        "subtitle.width = Inches(9)\n",
        "subtitle.height = Inches(4.5)"
      ],
      "metadata": {
        "id": "rNJxnIfklNeE"
      },
      "execution_count": 51,
      "outputs": []
    },
    {
      "cell_type": "code",
      "source": [
        "# save the PowerPoint presentation\n",
        "prs.save(\"presentation.pptx\")"
      ],
      "metadata": {
        "id": "OkGrClfMlPHU"
      },
      "execution_count": 52,
      "outputs": []
    },
    {
      "cell_type": "code",
      "source": [
        "# add a new slide\n",
        "slide = prs.slides.add_slide(prs.slide_layouts[1])"
      ],
      "metadata": {
        "id": "NUeqv43tlsIC"
      },
      "execution_count": 53,
      "outputs": []
    },
    {
      "cell_type": "code",
      "source": [
        "# add a title and subtitle to the slide\n",
        "title = slide.shapes.title\n",
        "title.text = \"JIRA Tickets for any HLP Enhancements and Production stories\"\n",
        "title_shape.text_frame.paragraphs[0].font.size = Inches(0.5)"
      ],
      "metadata": {
        "id": "BXf5l8EGlt8h"
      },
      "execution_count": 54,
      "outputs": []
    },
    {
      "cell_type": "code",
      "source": [
        "subtitle = slide.placeholders[1]\n",
        "subtitle.text = \"\"\n",
        "subtitle.left = Inches(0.5)\n",
        "subtitle.top = Inches(1.5)\n",
        "subtitle.width = Inches(9)\n",
        "subtitle.height = Inches(4.5)"
      ],
      "metadata": {
        "id": "tDTHS1LDlxqC"
      },
      "execution_count": 55,
      "outputs": []
    },
    {
      "cell_type": "code",
      "source": [
        "# save the PowerPoint presentation\n",
        "prs.save(\"presentation.pptx\")"
      ],
      "metadata": {
        "id": "bBgxwlr5l1OB"
      },
      "execution_count": 56,
      "outputs": []
    },
    {
      "cell_type": "code",
      "source": [
        "# add a new slide\n",
        "slide = prs.slides.add_slide(prs.slide_layouts[1])"
      ],
      "metadata": {
        "id": "XBjNNlOer3eL"
      },
      "execution_count": 57,
      "outputs": []
    },
    {
      "cell_type": "code",
      "source": [
        "# add a title and subtitle to the slide\n",
        "title = slide.shapes.title\n",
        "title.text = \"List of Highest Priority tickets (UNO, EMCT, INOC, Any issues with >10Agent Impact) and it's lifecycle\"\n",
        "title_shape.text_frame.paragraphs[0].font.size = Inches(0.5)"
      ],
      "metadata": {
        "id": "c9E4XWUxr4IY"
      },
      "execution_count": 58,
      "outputs": []
    },
    {
      "cell_type": "code",
      "source": [
        "subtitle = slide.placeholders[1]\n",
        "subtitle.text = \"\"\n",
        "subtitle.left = Inches(0.5)\n",
        "subtitle.top = Inches(1.5)\n",
        "subtitle.width = Inches(9)\n",
        "subtitle.height = Inches(4.5)\n"
      ],
      "metadata": {
        "id": "37B2lh4nr4La"
      },
      "execution_count": 59,
      "outputs": []
    },
    {
      "cell_type": "code",
      "source": [
        "# save the PowerPoint presentation\n",
        "prs.save(\"presentation.pptx\")"
      ],
      "metadata": {
        "id": "oHrIrDlsr4OQ"
      },
      "execution_count": 60,
      "outputs": []
    },
    {
      "cell_type": "code",
      "source": [
        "# add a new slide\n",
        "slide = prs.slides.add_slide(prs.slide_layouts[1])"
      ],
      "metadata": {
        "id": "sQ6TgHC_r4RS"
      },
      "execution_count": 61,
      "outputs": []
    },
    {
      "cell_type": "code",
      "source": [
        "# add a title and subtitle to the slide\n",
        "title = slide.shapes.title\n",
        "title.text = \"List of Medium Priority tickets and it's lifecycle\"\n",
        "title_shape.text_frame.paragraphs[0].font.size = Inches(0.5)"
      ],
      "metadata": {
        "id": "_8c3X4bor4UA"
      },
      "execution_count": 62,
      "outputs": []
    },
    {
      "cell_type": "code",
      "source": [
        "subtitle = slide.placeholders[1]\n",
        "subtitle.text = \"\"\n",
        "subtitle.left = Inches(0.5)\n",
        "subtitle.top = Inches(1.5)\n",
        "subtitle.width = Inches(9)\n",
        "subtitle.height = Inches(4.5)"
      ],
      "metadata": {
        "id": "-nafAhl7r4W0"
      },
      "execution_count": 63,
      "outputs": []
    },
    {
      "cell_type": "code",
      "source": [
        "# save the PowerPoint presentation\n",
        "prs.save(\"presentation.pptx\")"
      ],
      "metadata": {
        "id": "-uGlWNkcr4Zw"
      },
      "execution_count": 64,
      "outputs": []
    },
    {
      "cell_type": "code",
      "source": [
        "# add a new slide\n",
        "slide = prs.slides.add_slide(prs.slide_layouts[1])"
      ],
      "metadata": {
        "id": "99B0Rn2Mr4co"
      },
      "execution_count": 65,
      "outputs": []
    },
    {
      "cell_type": "code",
      "source": [
        "# add a title and subtitle to the slide\n",
        "title = slide.shapes.title\n",
        "title.text = \"List of Low Priority tickets and it's lifecycle\"\n",
        "title_shape.text_frame.paragraphs[0].font.size = Inches(0.5)"
      ],
      "metadata": {
        "id": "4DrRkp7mr4fh"
      },
      "execution_count": 66,
      "outputs": []
    },
    {
      "cell_type": "code",
      "source": [
        "subtitle = slide.placeholders[1]\n",
        "subtitle.text = \"\"\n",
        "subtitle.left = Inches(0.5)\n",
        "subtitle.top = Inches(1.5)\n",
        "subtitle.width = Inches(9)\n",
        "subtitle.height = Inches(4.5)\n"
      ],
      "metadata": {
        "id": "za89C7kRr4iZ"
      },
      "execution_count": 67,
      "outputs": []
    },
    {
      "cell_type": "code",
      "source": [
        "# save the PowerPoint presentation\n",
        "prs.save(\"presentation.pptx\")"
      ],
      "metadata": {
        "id": "AgOJCix9r4lR"
      },
      "execution_count": 68,
      "outputs": []
    },
    {
      "cell_type": "code",
      "source": [
        "# add a new slide\n",
        "slide = prs.slides.add_slide(prs.slide_layouts[1])"
      ],
      "metadata": {
        "id": "yfC-UXM1r4oB"
      },
      "execution_count": 69,
      "outputs": []
    },
    {
      "cell_type": "code",
      "source": [
        "# add a title and subtitle to the slide\n",
        "title = slide.shapes.title\n",
        "title.text = \"Steps to raise high priority tickets \"\n",
        "title_shape.text_frame.paragraphs[0].font.size = Inches(0.5)"
      ],
      "metadata": {
        "id": "04jhbKiKr4rA"
      },
      "execution_count": 70,
      "outputs": []
    },
    {
      "cell_type": "code",
      "source": [
        "subtitle = slide.placeholders[1]\n",
        "subtitle.text = \"\"\n",
        "subtitle.left = Inches(0.5)\n",
        "subtitle.top = Inches(1.5)\n",
        "subtitle.width = Inches(9)\n",
        "subtitle.height = Inches(4.5)"
      ],
      "metadata": {
        "id": "kOgRixVAr4tr"
      },
      "execution_count": 71,
      "outputs": []
    },
    {
      "cell_type": "code",
      "source": [
        "# save the PowerPoint presentation\n",
        "prs.save(\"presentation.pptx\")"
      ],
      "metadata": {
        "id": "6jfhc8iir4wh"
      },
      "execution_count": 72,
      "outputs": []
    },
    {
      "cell_type": "code",
      "source": [
        "# add a new slide\n",
        "slide = prs.slides.add_slide(prs.slide_layouts[1])\n"
      ],
      "metadata": {
        "id": "L3ZUUgk6r4ze"
      },
      "execution_count": 73,
      "outputs": []
    },
    {
      "cell_type": "code",
      "source": [
        "# add a title and subtitle to the slide\n",
        "title = slide.shapes.title\n",
        "title.text = \"Steps to raise Medium priority tickets\"\n",
        "title_shape.text_frame.paragraphs[0].font.size = Inches(0.5)"
      ],
      "metadata": {
        "id": "HN7qPJchr42V"
      },
      "execution_count": 74,
      "outputs": []
    },
    {
      "cell_type": "code",
      "source": [
        "subtitle = slide.placeholders[1]\n",
        "subtitle.text = \"\"\n",
        "subtitle.left = Inches(0.5)\n",
        "subtitle.top = Inches(1.5)\n",
        "subtitle.width = Inches(9)\n",
        "subtitle.height = Inches(4.5)"
      ],
      "metadata": {
        "id": "d1wOu1Xdr45Q"
      },
      "execution_count": 75,
      "outputs": []
    },
    {
      "cell_type": "code",
      "source": [
        "# save the PowerPoint presentation\n",
        "prs.save(\"presentation.pptx\")"
      ],
      "metadata": {
        "id": "jwcS07nnr48J"
      },
      "execution_count": 76,
      "outputs": []
    },
    {
      "cell_type": "code",
      "source": [
        "# add a new slide\n",
        "slide = prs.slides.add_slide(prs.slide_layouts[1])\n"
      ],
      "metadata": {
        "id": "OdAqfZfHr4_M"
      },
      "execution_count": 77,
      "outputs": []
    },
    {
      "cell_type": "code",
      "source": [
        "# add a title and subtitle to the slide\n",
        "title = slide.shapes.title\n",
        "title.text = \"Steps to raise Low priority tickets\"\n",
        "title_shape.text_frame.paragraphs[0].font.size = Inches(0.5)"
      ],
      "metadata": {
        "id": "UBLP5FrRr5B5"
      },
      "execution_count": 78,
      "outputs": []
    },
    {
      "cell_type": "code",
      "source": [
        "subtitle = slide.placeholders[1]\n",
        "subtitle.text = \"\"\n",
        "subtitle.left = Inches(0.5)\n",
        "subtitle.top = Inches(1.5)\n",
        "subtitle.width = Inches(9)\n",
        "subtitle.height = Inches(4.5)"
      ],
      "metadata": {
        "id": "3XQ_Znn3r5Ep"
      },
      "execution_count": 79,
      "outputs": []
    },
    {
      "cell_type": "code",
      "source": [
        "# save the PowerPoint presentation\n",
        "prs.save(\"presentation.pptx\")"
      ],
      "metadata": {
        "id": "8wB7U8xer5Ha"
      },
      "execution_count": 80,
      "outputs": []
    },
    {
      "cell_type": "code",
      "source": [
        "# add a new slide\n",
        "slide = prs.slides.add_slide(prs.slide_layouts[1])"
      ],
      "metadata": {
        "id": "nf3Dh_ufr5KS"
      },
      "execution_count": 81,
      "outputs": []
    },
    {
      "cell_type": "code",
      "source": [
        "# add a title and subtitle to the slide\n",
        "title = slide.shapes.title\n",
        "title.text = \"When to raise ticket and what the tickets should contain\"\n",
        "title_shape.text_frame.paragraphs[0].font.size = Inches(0.5)\n"
      ],
      "metadata": {
        "id": "rVUdguJnr5NR"
      },
      "execution_count": 82,
      "outputs": []
    },
    {
      "cell_type": "code",
      "source": [
        "subtitle = slide.placeholders[1]\n",
        "subtitle.text = \"\"\n",
        "subtitle.left = Inches(0.5)\n",
        "subtitle.top = Inches(1.5)\n",
        "subtitle.width = Inches(9)\n",
        "subtitle.height = Inches(4.5)\n"
      ],
      "metadata": {
        "id": "LEuFZ2FRr5P6"
      },
      "execution_count": 83,
      "outputs": []
    },
    {
      "cell_type": "code",
      "source": [
        "# save the PowerPoint presentation\n",
        "prs.save(\"presentation.pptx\")"
      ],
      "metadata": {
        "id": "ewgU2Zxjr5Sx"
      },
      "execution_count": 84,
      "outputs": []
    },
    {
      "cell_type": "code",
      "source": [
        "# add a new slide\n",
        "slide = prs.slides.add_slide(prs.slide_layouts[1])"
      ],
      "metadata": {
        "id": "9biCOibAr5Vn"
      },
      "execution_count": 85,
      "outputs": []
    },
    {
      "cell_type": "code",
      "source": [
        "# add a title and subtitle to the slide\n",
        "title = slide.shapes.title\n",
        "title.text = \"Out of Scope tickets for CCPT Digital Assist team\"\n",
        "title_shape.text_frame.paragraphs[0].font.size = Inches(0.5)"
      ],
      "metadata": {
        "id": "RW_p_G8mr5Yb"
      },
      "execution_count": 86,
      "outputs": []
    },
    {
      "cell_type": "code",
      "source": [
        "subtitle = slide.placeholders[1]\n",
        "subtitle.text = \"\"\n",
        "subtitle.left = Inches(0.5)\n",
        "subtitle.top = Inches(1.5)\n",
        "subtitle.width = Inches(9)\n",
        "subtitle.height = Inches(4.5)"
      ],
      "metadata": {
        "id": "E1y7cspWr5bj"
      },
      "execution_count": 87,
      "outputs": []
    },
    {
      "cell_type": "code",
      "source": [
        "# save the PowerPoint presentation\n",
        "prs.save(\"presentation.pptx\")"
      ],
      "metadata": {
        "id": "PCgovrFFr5ea"
      },
      "execution_count": 88,
      "outputs": []
    },
    {
      "cell_type": "code",
      "source": [
        "# add a new slide\n",
        "slide = prs.slides.add_slide(prs.slide_layouts[1])"
      ],
      "metadata": {
        "id": "epGpPt_5r5hn"
      },
      "execution_count": 89,
      "outputs": []
    },
    {
      "cell_type": "code",
      "source": [
        "# add a title and subtitle to the slide\n",
        "title = slide.shapes.title\n",
        "title.text = \"Out of Scope tickets for CCPT Digital Assist team\"\n",
        "title_shape.text_frame.paragraphs[0].font.size = Inches(0.5)"
      ],
      "metadata": {
        "id": "yykIQKUlr5kT"
      },
      "execution_count": 90,
      "outputs": []
    },
    {
      "cell_type": "code",
      "source": [
        "subtitle = slide.placeholders[1]\n",
        "subtitle.text = \"\"\n",
        "subtitle.left = Inches(0.5)\n",
        "subtitle.top = Inches(1.5)\n",
        "subtitle.width = Inches(9)\n",
        "subtitle.height = Inches(4.5)"
      ],
      "metadata": {
        "id": "a4EuNy77r5nW"
      },
      "execution_count": 91,
      "outputs": []
    },
    {
      "cell_type": "code",
      "source": [
        "# save the PowerPoint presentation\n",
        "prs.save(\"presentation.pptx\")"
      ],
      "metadata": {
        "id": "GilEbIPGtm5X"
      },
      "execution_count": 92,
      "outputs": []
    }
  ]
}